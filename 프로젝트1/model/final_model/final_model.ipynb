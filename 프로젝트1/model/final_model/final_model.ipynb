{
 "cells": [
  {
   "cell_type": "code",
   "execution_count": 28,
   "metadata": {},
   "outputs": [],
   "source": [
    "from sklearn.linear_model import LinearRegression\n",
    "from sklearn.metrics import mean_squared_error, r2_score\n",
    "from sklearn.model_selection import GridSearchCV, train_test_split\n",
    "\n",
    "import numpy as np\n",
    "import pandas as pd"
   ]
  },
  {
   "cell_type": "code",
   "execution_count": 29,
   "metadata": {},
   "outputs": [],
   "source": [
    "\n",
    "# 데이터와 타겟(종속 변수) 준비\n",
    "X = pd.read_csv('../X_Features_Final.csv')# 독립 변수 데이터\n",
    "y = pd.read_csv('../y_open_0905~_1000(5min)/y_open_0910.csv')# 종속 변수 데이터\n",
    "\n",
    "# 시간 형태로 변경\n",
    "X['date'] = pd.to_datetime(X['date'] ,format=\"%Y-%m-%d\")\n",
    "y['date'] = pd.to_datetime(y['date'],format= \"%Y%m%d\")\n",
    "\n",
    "df = pd.merge(X,y, on='date',how='inner')\n",
    "df.sort_index(ascending=False,inplace=True)\n",
    "df.drop(columns='Unnamed: 0',inplace=True)\n",
    "df.set_index('date',inplace=True)\n"
   ]
  },
  {
   "cell_type": "code",
   "execution_count": 30,
   "metadata": {},
   "outputs": [],
   "source": [
    "# X와 y 정의\n",
    "X = df.drop('open', axis=1)\n",
    "y = df['open']\n",
    "\n",
    "# 분리 전 백테스트를 위한 date 생성\n",
    "dates = df.index\n",
    "\n",
    "# 학습셋 분리 (80% train, 20% test)\n",
    "X_train, X_test, y_train, y_test = train_test_split(X, y, test_size=0.2, shuffle=False, random_state=42)"
   ]
  },
  {
   "cell_type": "code",
   "execution_count": 36,
   "metadata": {},
   "outputs": [
    {
     "name": "stdout",
     "output_type": "stream",
     "text": [
      "최적 파라미터: {'fit_intercept': True}\n",
      "MSE: 135900.04230540668 RMSE: 368.64622920275025 r2_score: 0.9964491836420264\n"
     ]
    }
   ],
   "source": [
    "# 선형 회귀 모델 초기화\n",
    "model = LinearRegression()\n",
    "\n",
    "# 탐색할 하이퍼파라미터 그리드 정의\n",
    "param_grid = {\n",
    "    'fit_intercept': [True, False],  # fit_intercept 파라미터를 탐색\n",
    "}\n",
    "\n",
    "# GridSearchCV를 사용하여 최적 파라미터 탐색\n",
    "grid_search = GridSearchCV(model, param_grid, scoring='neg_mean_squared_error', cv=5)\n",
    "grid_search.fit(X_train, y_train)\n",
    "\n",
    "# 최적 파라미터 출력\n",
    "print(\"최적 파라미터:\", grid_search.best_params_)\n",
    "\n",
    "# 최적 모델 선택\n",
    "best_model_LR = grid_search.best_estimator_\n",
    "\n",
    "# 예측을 수행\n",
    "y_pred = best_model_LR.predict(X_train)\n",
    "\n",
    "# RMSE 계산\n",
    "mse = mean_squared_error(y_train, y_pred)\n",
    "r2 = r2_score(y_train, y_pred)\n",
    "rmse = np.sqrt(mean_squared_error(y_train, y_pred))\n",
    "print(\"MSE:\", mse ,\"RMSE:\", rmse, \"r2_score:\",r2)\n"
   ]
  },
  {
   "cell_type": "code",
   "execution_count": 37,
   "metadata": {},
   "outputs": [
    {
     "name": "stdout",
     "output_type": "stream",
     "text": [
      "MSE: 89016.91035103767 RMSE: 298.3570182701216 r2_score: 0.9639460887221531\n"
     ]
    }
   ],
   "source": [
    "# 검증\n",
    "y_pred = best_model_LR.predict(X_test)\n",
    "\n",
    "# RMSE 계산\n",
    "mse = mean_squared_error(y_test, y_pred)\n",
    "r2 = r2_score(y_test, y_pred)\n",
    "rmse = np.sqrt(mean_squared_error(y_test, y_pred))\n",
    "print(\"MSE:\", mse ,\"RMSE:\", rmse, \"r2_score:\",r2)"
   ]
  },
  {
   "cell_type": "markdown",
   "metadata": {},
   "source": [
    "#DecisionTree"
   ]
  },
  {
   "cell_type": "code",
   "execution_count": 43,
   "metadata": {},
   "outputs": [
    {
     "name": "stdout",
     "output_type": "stream",
     "text": [
      "최적 파라미터: {'max_depth': None, 'min_samples_leaf': 1, 'min_samples_split': 2}\n",
      "MSE: 364990.0958333333 RMSE: 604.1441018774688 r2_score: 0.8521705541051232\n"
     ]
    }
   ],
   "source": [
    "from sklearn.tree import DecisionTreeRegressor\n",
    "\n",
    "# 의사 결정 트리 모델 초기화\n",
    "model = DecisionTreeRegressor()\n",
    "\n",
    "# 탐색할 하이퍼파라미터 그리드 정의\n",
    "param_grid = {\n",
    "    'max_depth': [None, 10, 20, 30],  # 트리의 최대 깊이\n",
    "    'min_samples_split': [2, 5, 10],  # 분할을 위한 최소 샘플 수\n",
    "    'min_samples_leaf': [1, 2, 4]  # 리프 노드에 필요한 최소 샘플 수\n",
    "}\n",
    "\n",
    "# GridSearchCV를 사용하여 최적 파라미터 탐색 (평균 제곱 오차를 최소화)\n",
    "grid_search = GridSearchCV(model, param_grid, scoring='neg_mean_squared_error', cv=5)\n",
    "grid_search.fit(X_train, y_train)\n",
    "\n",
    "# 최적 파라미터 출력\n",
    "print(\"최적 파라미터:\", grid_search.best_params_)\n",
    "\n",
    "# 최적 모델 선택\n",
    "best_model_DT = grid_search.best_estimator_\n",
    "\n",
    "# 최적 모델을 사용하여 테스트 데이터 세트에 대한 예측을 수행\n",
    "y_pred = best_model_DT.predict(X_test)\n",
    "\n",
    "# RMSE 계산\n",
    "mse = mean_squared_error(y_test, y_pred)\n",
    "r2 = r2_score(y_test, y_pred)\n",
    "rmse = np.sqrt(mean_squared_error(y_test, y_pred))\n",
    "print(\"MSE:\", mse ,\"RMSE:\", rmse, \"r2_score:\",r2)"
   ]
  },
  {
   "cell_type": "code",
   "execution_count": 44,
   "metadata": {},
   "outputs": [],
   "source": [
    "from sklearn.ensemble import RandomForestRegressor\n",
    "\n",
    "# 랜덤 포레스트 모델 초기화\n",
    "model = RandomForestRegressor()\n",
    "\n",
    "# 탐색할 하이퍼파라미터 그리드 정의\n",
    "param_grid = {\n",
    "    'n_estimators': [50, 100, 200],  # 트리의 개수\n",
    "    'max_depth': [None, 10, 20, 30],  # 트리의 최대 깊이\n",
    "    'min_samples_split': [2, 5, 10],  # 분할을 위한 최소 샘플 수\n",
    "    'min_samples_leaf': [1, 2, 4]  # 리프 노드에 필요한 최소 샘플 수\n",
    "}\n",
    "\n",
    "# GridSearchCV를 사용하여 최적 파라미터 탐색 (평균 제곱 오차를 최소화)\n",
    "grid_search = GridSearchCV(model, param_grid, scoring='neg_mean_squared_error', cv=5)\n",
    "grid_search.fit(X_train, y_train)\n",
    "\n",
    "# 최적 파라미터 출력\n",
    "print(\"최적 파라미터:\", grid_search.best_params_)\n",
    "\n",
    "# 최적 모델 선택\n",
    "best_model_RF = grid_search.best_estimator_\n",
    "\n",
    "# 최적 모델을 사용하여 테스트 데이터 세트에 대한 예측을 수행\n",
    "y_pred = best_model_RF.predict(X_test)\n",
    "\n",
    "# RMSE 계산\n",
    "mse = mean_squared_error(y_test, y_pred)\n",
    "r2 = r2_score(y_test, y_pred)\n",
    "rmse = np.sqrt(mean_squared_error(y_test, y_pred))\n",
    "print(\"MSE:\", mse ,\"RMSE:\", rmse, \"r2_score:\",r2)"
   ]
  },
  {
   "cell_type": "code",
   "execution_count": null,
   "metadata": {},
   "outputs": [],
   "source": [
    "import xgboost as xgb\n",
    "\n",
    "# XGBoost 모델 초기화\n",
    "model = xgb.XGBRegressor(objective='reg:squarederror')  # 회귀 문제 설정\n",
    "\n",
    "# 탐색할 하이퍼파라미터 그리드 정의\n",
    "param_grid = {\n",
    "    'n_estimators': [50, 100, 200],\n",
    "    'max_depth': [3, 5, 7, 9],\n",
    "    'learning_rate': [0.01, 0.05, 0.1],\n",
    "    'subsample': [0.8, 0.9, 1.0],\n",
    "    'colsample_bytree': [0.8, 0.9, 1.0]\n",
    "}\n",
    "\n",
    "# GridSearchCV를 사용하여 최적 파라미터 탐색 (평균 제곱 오차를 최소화)\n",
    "grid_search = GridSearchCV(model, param_grid, scoring='neg_mean_squared_error', cv=5, verbose=1)\n",
    "grid_search.fit(X_train, y_train)\n",
    "\n",
    "# 최적 파라미터 출력\n",
    "print(\"최적 파라미터:\", grid_search.best_params_)\n",
    "\n",
    "# 최적 모델 선택\n",
    "best_model_XGB = grid_search.best_estimator_\n",
    "\n",
    "# 최적 모델을 사용하여 테스트 데이터 세트에 대한 예측을 수행\n",
    "y_pred = best_model_XGB.predict(X_test)\n",
    "\n",
    "# RMSE 계산\n",
    "mse = mean_squared_error(y_test, y_pred)\n",
    "r2 = r2_score(y_test, y_pred)\n",
    "rmse = np.sqrt(mean_squared_error(y_test, y_pred))\n",
    "print(\"MSE:\", mse ,\"RMSE:\", rmse, \"r2_score:\",r2)\n"
   ]
  },
  {
   "cell_type": "code",
   "execution_count": null,
   "metadata": {},
   "outputs": [],
   "source": [
    "import lightgbm as lgb\n",
    "\n",
    "# LightGBM 모델 초기화\n",
    "model = lgb.LGBMRegressor()\n",
    "\n",
    "# 탐색할 하이퍼파라미터 그리드 정의\n",
    "param_grid = {\n",
    "    'n_estimators': [50, 100, 200],\n",
    "    'max_depth': [5, 10, 15],\n",
    "    'learning_rate': [0.01, 0.05, 0.1],\n",
    "    'subsample': [0.8, 0.9, 1.0],\n",
    "    'colsample_bytree': [0.8, 0.9, 1.0]\n",
    "}\n",
    "\n",
    "# GridSearchCV를 사용하여 최적 파라미터 탐색 (평균 제곱 오차를 최소화)\n",
    "grid_search = GridSearchCV(model, param_grid, scoring='neg_mean_squared_error', cv=5)\n",
    "\n",
    "grid_search.fit(X_train, y_train)\n",
    "\n",
    "# 최적 파라미터 출력\n",
    "print(\"최적 파라미터:\", grid_search.best_params_)\n",
    "\n",
    "# 최적 모델 선택\n",
    "best_model_LGB = grid_search.best_estimator_\n",
    "\n",
    "# 최적 모델을 사용하여 테스트 데이터 세트에 대한 예측을 수행\n",
    "y_pred = best_model_LGB.predict(X_test)\n",
    "\n",
    "# RMSE 계산\n",
    "mse = mean_squared_error(y_test, y_pred)\n",
    "r2 = r2_score(y_test, y_pred)\n",
    "rmse = np.sqrt(mean_squared_error(y_test, y_pred))\n",
    "print(\"MSE:\", mse ,\"RMSE:\", rmse, \"r2_score:\",r2)"
   ]
  },
  {
   "cell_type": "code",
   "execution_count": null,
   "metadata": {},
   "outputs": [],
   "source": [
    "from sklearn.svm import SVR\n",
    "\n",
    "# SVM 모델 초기화\n",
    "model = SVR()\n",
    "\n",
    "# 탐색할 하이퍼파라미터 그리드 정의\n",
    "param_grid = {\n",
    "    'C': [0.1, 1, 10],\n",
    "    'kernel': ['linear', 'rbf'],\n",
    "    'gamma': ['scale', 'auto']\n",
    "}\n",
    "\n",
    "# GridSearchCV를 사용하여 최적 파라미터 탐색 (평균 제곱 오차를 최소화)\n",
    "grid_search = GridSearchCV(model, param_grid, scoring='neg_mean_squared_error', cv=5)\n",
    "grid_search.fit(X_train, y_train)\n",
    "\n",
    "# 최적 파라미터 출력\n",
    "print(\"최적 파라미터:\", grid_search.best_params_)\n",
    "\n",
    "# 최적 모델 선택\n",
    "best_model_SVR = grid_search.best_estimator_\n",
    "\n",
    "# 최적 모델을 사용하여 테스트 데이터 세트에 대한 예측을 수행\n",
    "y_pred = best_model_SVR.predict(X_test)\n",
    "\n",
    "# RMSE 계산\n",
    "mse = mean_squared_error(y_test, y_pred)\n",
    "r2 = r2_score(y_test, y_pred)\n",
    "rmse = np.sqrt(mean_squared_error(y_test, y_pred))\n",
    "print(\"MSE:\", mse ,\"RMSE:\", rmse, \"r2_score:\",r2)"
   ]
  }
 ],
 "metadata": {
  "kernelspec": {
   "display_name": "base",
   "language": "python",
   "name": "python3"
  },
  "language_info": {
   "codemirror_mode": {
    "name": "ipython",
    "version": 3
   },
   "file_extension": ".py",
   "mimetype": "text/x-python",
   "name": "python",
   "nbconvert_exporter": "python",
   "pygments_lexer": "ipython3",
   "version": "3.11.5"
  }
 },
 "nbformat": 4,
 "nbformat_minor": 2
}
