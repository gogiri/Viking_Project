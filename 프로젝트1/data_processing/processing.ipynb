{
 "cells": [
  {
   "cell_type": "code",
   "execution_count": 1,
   "metadata": {},
   "outputs": [],
   "source": [
    "import pandas as pd"
   ]
  },
  {
   "cell_type": "code",
   "execution_count": 2,
   "metadata": {},
   "outputs": [],
   "source": [
    "df = pd.read_csv('../data/raw data/X1_kodex(1d).csv')"
   ]
  },
  {
   "cell_type": "code",
   "execution_count": 3,
   "metadata": {},
   "outputs": [
    {
     "data": {
      "text/html": [
       "<div>\n",
       "<style scoped>\n",
       "    .dataframe tbody tr th:only-of-type {\n",
       "        vertical-align: middle;\n",
       "    }\n",
       "\n",
       "    .dataframe tbody tr th {\n",
       "        vertical-align: top;\n",
       "    }\n",
       "\n",
       "    .dataframe thead th {\n",
       "        text-align: right;\n",
       "    }\n",
       "</style>\n",
       "<table border=\"1\" class=\"dataframe\">\n",
       "  <thead>\n",
       "    <tr style=\"text-align: right;\">\n",
       "      <th></th>\n",
       "      <th>open</th>\n",
       "      <th>high</th>\n",
       "      <th>low</th>\n",
       "      <th>close</th>\n",
       "      <th>volume</th>\n",
       "    </tr>\n",
       "    <tr>\n",
       "      <th>date</th>\n",
       "      <th></th>\n",
       "      <th></th>\n",
       "      <th></th>\n",
       "      <th></th>\n",
       "      <th></th>\n",
       "    </tr>\n",
       "  </thead>\n",
       "  <tbody>\n",
       "    <tr>\n",
       "      <th>2002-10-14</th>\n",
       "      <td>5320</td>\n",
       "      <td>5456</td>\n",
       "      <td>5177</td>\n",
       "      <td>5286</td>\n",
       "      <td>3778837</td>\n",
       "    </tr>\n",
       "    <tr>\n",
       "      <th>2002-10-15</th>\n",
       "      <td>5354</td>\n",
       "      <td>5442</td>\n",
       "      <td>5252</td>\n",
       "      <td>5415</td>\n",
       "      <td>3355884</td>\n",
       "    </tr>\n",
       "    <tr>\n",
       "      <th>2002-10-16</th>\n",
       "      <td>5483</td>\n",
       "      <td>5483</td>\n",
       "      <td>5395</td>\n",
       "      <td>5436</td>\n",
       "      <td>2989883</td>\n",
       "    </tr>\n",
       "  </tbody>\n",
       "</table>\n",
       "</div>"
      ],
      "text/plain": [
       "            open  high   low  close   volume\n",
       "date                                        \n",
       "2002-10-14  5320  5456  5177   5286  3778837\n",
       "2002-10-15  5354  5442  5252   5415  3355884\n",
       "2002-10-16  5483  5483  5395   5436  2989883"
      ]
     },
     "execution_count": 3,
     "metadata": {},
     "output_type": "execute_result"
    }
   ],
   "source": [
    "# 'date' 컬럼의 데이터 형식을 datetime으로 변환\n",
    "df['date'] = pd.to_datetime(df['date'], format='%Y%m%d')\n",
    "\n",
    "# 'date' 컬럼을 인덱스로 설정\n",
    "df.set_index('date', inplace=True)\n",
    "\n",
    "df.head(3)\n"
   ]
  },
  {
   "cell_type": "code",
   "execution_count": null,
   "metadata": {},
   "outputs": [],
   "source": []
  }
 ],
 "metadata": {
  "kernelspec": {
   "display_name": "Python 3",
   "language": "python",
   "name": "python3"
  },
  "language_info": {
   "codemirror_mode": {
    "name": "ipython",
    "version": 3
   },
   "file_extension": ".py",
   "mimetype": "text/x-python",
   "name": "python",
   "nbconvert_exporter": "python",
   "pygments_lexer": "ipython3",
   "version": "3.11.4"
  }
 },
 "nbformat": 4,
 "nbformat_minor": 2
}
