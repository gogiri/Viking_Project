{
 "cells": [
  {
   "cell_type": "code",
   "execution_count": 1,
   "metadata": {},
   "outputs": [],
   "source": [
    "import pandas as pd"
   ]
  },
  {
   "cell_type": "code",
   "execution_count": 2,
   "metadata": {},
   "outputs": [],
   "source": [
    "df1 = pd.read_csv('../data/y/kodex(5min).csv')\n",
    "df2 = pd.read_csv('../data/y/X1_kodex(1d).csv')\n",
    "df3 = pd.read_csv('../data/y/kodex(1min).csv')"
   ]
  },
  {
   "cell_type": "code",
   "execution_count": 33,
   "metadata": {},
   "outputs": [
    {
     "name": "stderr",
     "output_type": "stream",
     "text": [
      "C:\\Users\\hotte\\AppData\\Local\\Temp\\ipykernel_18400\\776564506.py:3: SettingWithCopyWarning: \n",
      "A value is trying to be set on a copy of a slice from a DataFrame.\n",
      "Try using .loc[row_indexer,col_indexer] = value instead\n",
      "\n",
      "See the caveats in the documentation: https://pandas.pydata.org/pandas-docs/stable/user_guide/indexing.html#returning-a-view-versus-a-copy\n",
      "  kodex_0930_data['date'] = kodex_0930_data['date'].astype(str).str[:8].astype(int)\n"
     ]
    }
   ],
   "source": [
    "# 'date' 컬럼에서 '09xx'을 포함하는 데이터만 필터링한다.\n",
    "kodex_0930_data = df3[df3['date'].astype(str).str.endswith('0930')]\n",
    "kodex_0930_data['date'] = kodex_0930_data['date'].astype(str).str[:8].astype(int)\n",
    "\n",
    "kodex_0930_data\n",
    "kodex_0930_data[['date','open']].to_csv('../model/y_open_1min/y_open_0930')"
   ]
  },
  {
   "cell_type": "code",
   "execution_count": 30,
   "metadata": {},
   "outputs": [
    {
     "name": "stderr",
     "output_type": "stream",
     "text": [
      "C:\\Users\\hotte\\AppData\\Local\\Temp\\ipykernel_7596\\2027160035.py:2: SettingWithCopyWarning: \n",
      "A value is trying to be set on a copy of a slice from a DataFrame.\n",
      "Try using .loc[row_indexer,col_indexer] = value instead\n",
      "\n",
      "See the caveats in the documentation: https://pandas.pydata.org/pandas-docs/stable/user_guide/indexing.html#returning-a-view-versus-a-copy\n",
      "  kodex_0930_data['date'] = kodex_0930_data['date'].astype(str).str[:8].astype(int)\n"
     ]
    },
    {
     "data": {
      "text/plain": [
       "1241"
      ]
     },
     "execution_count": 30,
     "metadata": {},
     "output_type": "execute_result"
    }
   ],
   "source": [
    "# 'date' 컬럼의 데이터를 YYYYMMDD 형태로 변환\n",
    "kodex_0930_data['date'] = kodex_0930_data['date'].astype(str).str[:8].astype(int)\n",
    "\n",
    "# 'date'를 기준으로 kodex_0930_data와 x1_kodex_data를 내부 조인(inner join)한다.\n",
    "merged_data = pd.merge(kodex_0930_data, df2, on='date', how='inner')\n",
    "\n",
    "len(merged_data)"
   ]
  },
  {
   "cell_type": "code",
   "execution_count": 31,
   "metadata": {},
   "outputs": [],
   "source": [
    "merged_data['y_rate'] = (merged_data['open_x'] - merged_data['open_y'])/merged_data['open_y']"
   ]
  },
  {
   "cell_type": "code",
   "execution_count": 32,
   "metadata": {},
   "outputs": [],
   "source": [
    "merged_data[['date','y_rate']].to_csv('../data/y_rate/y_0900_0955.csv')"
   ]
  },
  {
   "cell_type": "code",
   "execution_count": null,
   "metadata": {},
   "outputs": [],
   "source": []
  }
 ],
 "metadata": {
  "kernelspec": {
   "display_name": "Python 3",
   "language": "python",
   "name": "python3"
  },
  "language_info": {
   "codemirror_mode": {
    "name": "ipython",
    "version": 3
   },
   "file_extension": ".py",
   "mimetype": "text/x-python",
   "name": "python",
   "nbconvert_exporter": "python",
   "pygments_lexer": "ipython3",
   "version": "3.11.4"
  }
 },
 "nbformat": 4,
 "nbformat_minor": 2
}
