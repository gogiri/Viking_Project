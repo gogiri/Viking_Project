{
 "cells": [
  {
   "cell_type": "code",
   "execution_count": 15,
   "metadata": {},
   "outputs": [],
   "source": [
    "import pandas as pd"
   ]
  },
  {
   "cell_type": "code",
   "execution_count": 40,
   "metadata": {},
   "outputs": [],
   "source": [
    "df1 = pd.read_csv('../data/y/kodex(5min).csv')\n",
    "df2 = pd.read_csv('../data/y/X1_kodex(1d).csv')"
   ]
  },
  {
   "cell_type": "code",
   "execution_count": 41,
   "metadata": {},
   "outputs": [
    {
     "data": {
      "text/html": [
       "<div>\n",
       "<style scoped>\n",
       "    .dataframe tbody tr th:only-of-type {\n",
       "        vertical-align: middle;\n",
       "    }\n",
       "\n",
       "    .dataframe tbody tr th {\n",
       "        vertical-align: top;\n",
       "    }\n",
       "\n",
       "    .dataframe thead th {\n",
       "        text-align: right;\n",
       "    }\n",
       "</style>\n",
       "<table border=\"1\" class=\"dataframe\">\n",
       "  <thead>\n",
       "    <tr style=\"text-align: right;\">\n",
       "      <th></th>\n",
       "      <th>date</th>\n",
       "      <th>open</th>\n",
       "      <th>high</th>\n",
       "      <th>low</th>\n",
       "      <th>close</th>\n",
       "      <th>volume</th>\n",
       "    </tr>\n",
       "  </thead>\n",
       "  <tbody>\n",
       "    <tr>\n",
       "      <th>0</th>\n",
       "      <td>201810010905</td>\n",
       "      <td>27148</td>\n",
       "      <td>27229</td>\n",
       "      <td>27148</td>\n",
       "      <td>27202</td>\n",
       "      <td>259685</td>\n",
       "    </tr>\n",
       "    <tr>\n",
       "      <th>77</th>\n",
       "      <td>201810020905</td>\n",
       "      <td>27076</td>\n",
       "      <td>27117</td>\n",
       "      <td>27063</td>\n",
       "      <td>27099</td>\n",
       "      <td>162628</td>\n",
       "    </tr>\n",
       "    <tr>\n",
       "      <th>154</th>\n",
       "      <td>201810040905</td>\n",
       "      <td>26806</td>\n",
       "      <td>26806</td>\n",
       "      <td>26694</td>\n",
       "      <td>26703</td>\n",
       "      <td>87806</td>\n",
       "    </tr>\n",
       "    <tr>\n",
       "      <th>231</th>\n",
       "      <td>201810050905</td>\n",
       "      <td>26316</td>\n",
       "      <td>26365</td>\n",
       "      <td>26289</td>\n",
       "      <td>26289</td>\n",
       "      <td>232223</td>\n",
       "    </tr>\n",
       "    <tr>\n",
       "      <th>308</th>\n",
       "      <td>201810080905</td>\n",
       "      <td>26194</td>\n",
       "      <td>26253</td>\n",
       "      <td>26176</td>\n",
       "      <td>26217</td>\n",
       "      <td>138069</td>\n",
       "    </tr>\n",
       "  </tbody>\n",
       "</table>\n",
       "</div>"
      ],
      "text/plain": [
       "             date   open   high    low  close  volume\n",
       "0    201810010905  27148  27229  27148  27202  259685\n",
       "77   201810020905  27076  27117  27063  27099  162628\n",
       "154  201810040905  26806  26806  26694  26703   87806\n",
       "231  201810050905  26316  26365  26289  26289  232223\n",
       "308  201810080905  26194  26253  26176  26217  138069"
      ]
     },
     "execution_count": 41,
     "metadata": {},
     "output_type": "execute_result"
    }
   ],
   "source": [
    "# 'date' 컬럼에서 '09xx'을 포함하는 데이터만 필터링한다.\n",
    "kodex_0930_data = df1[df1['date'].astype(str).str.endswith('0905')]\n",
    "\n",
    "kodex_0930_data.head()\n"
   ]
  },
  {
   "cell_type": "code",
   "execution_count": 42,
   "metadata": {},
   "outputs": [
    {
     "name": "stderr",
     "output_type": "stream",
     "text": [
      "C:\\Users\\hotte\\AppData\\Local\\Temp\\ipykernel_12220\\3718638359.py:2: SettingWithCopyWarning: \n",
      "A value is trying to be set on a copy of a slice from a DataFrame.\n",
      "Try using .loc[row_indexer,col_indexer] = value instead\n",
      "\n",
      "See the caveats in the documentation: https://pandas.pydata.org/pandas-docs/stable/user_guide/indexing.html#returning-a-view-versus-a-copy\n",
      "  kodex_0930_data['date'] = kodex_0930_data['date'].astype(str).str[:8].astype(int)\n"
     ]
    },
    {
     "data": {
      "text/plain": [
       "1241"
      ]
     },
     "execution_count": 42,
     "metadata": {},
     "output_type": "execute_result"
    }
   ],
   "source": [
    "# 'date' 컬럼의 데이터를 YYYYMMDD 형태로 변환\n",
    "kodex_0930_data['date'] = kodex_0930_data['date'].astype(str).str[:8].astype(int)\n",
    "\n",
    "# 'date'를 기준으로 kodex_0930_data와 x1_kodex_data를 내부 조인(inner join)한다.\n",
    "merged_data = pd.merge(kodex_0930_data, df2, on='date', how='inner')\n",
    "\n",
    "len(merged_data)"
   ]
  },
  {
   "cell_type": "code",
   "execution_count": 43,
   "metadata": {},
   "outputs": [],
   "source": [
    "merged_data['y_change'] = merged_data['open_x'] - merged_data['open_y']"
   ]
  },
  {
   "cell_type": "code",
   "execution_count": 44,
   "metadata": {},
   "outputs": [],
   "source": [
    "merged_data[['date','y_change']].to_csv('../data/y/y_0900_0905.csv')"
   ]
  },
  {
   "cell_type": "code",
   "execution_count": null,
   "metadata": {},
   "outputs": [],
   "source": []
  }
 ],
 "metadata": {
  "kernelspec": {
   "display_name": "Python 3",
   "language": "python",
   "name": "python3"
  },
  "language_info": {
   "codemirror_mode": {
    "name": "ipython",
    "version": 3
   },
   "file_extension": ".py",
   "mimetype": "text/x-python",
   "name": "python",
   "nbconvert_exporter": "python",
   "pygments_lexer": "ipython3",
   "version": "3.11.4"
  }
 },
 "nbformat": 4,
 "nbformat_minor": 2
}
