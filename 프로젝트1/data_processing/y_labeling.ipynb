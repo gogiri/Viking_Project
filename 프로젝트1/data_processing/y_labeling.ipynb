{
 "cells": [
  {
   "cell_type": "code",
   "execution_count": 1,
   "metadata": {},
   "outputs": [],
   "source": [
    "import pandas as pd"
   ]
  },
  {
   "cell_type": "code",
   "execution_count": 2,
   "metadata": {},
   "outputs": [],
   "source": [
    "df1 = pd.read_csv('../data/y/kodex(5min).csv')\n",
    "df2 = pd.read_csv('../data/y/X1_kodex(1d).csv')"
   ]
  },
  {
   "cell_type": "code",
   "execution_count": null,
   "metadata": {},
   "outputs": [],
   "source": []
  },
  {
   "cell_type": "code",
   "execution_count": 8,
   "metadata": {},
   "outputs": [
    {
     "name": "stderr",
     "output_type": "stream",
     "text": [
      "C:\\Users\\hotte\\AppData\\Local\\Temp\\ipykernel_17100\\1695464017.py:3: SettingWithCopyWarning: \n",
      "A value is trying to be set on a copy of a slice from a DataFrame.\n",
      "Try using .loc[row_indexer,col_indexer] = value instead\n",
      "\n",
      "See the caveats in the documentation: https://pandas.pydata.org/pandas-docs/stable/user_guide/indexing.html#returning-a-view-versus-a-copy\n",
      "  kodex_0930_data['date'] = kodex_0930_data['date'].astype(str).str[:8].astype(int)\n"
     ]
    },
    {
     "data": {
      "text/html": [
       "<div>\n",
       "<style scoped>\n",
       "    .dataframe tbody tr th:only-of-type {\n",
       "        vertical-align: middle;\n",
       "    }\n",
       "\n",
       "    .dataframe tbody tr th {\n",
       "        vertical-align: top;\n",
       "    }\n",
       "\n",
       "    .dataframe thead th {\n",
       "        text-align: right;\n",
       "    }\n",
       "</style>\n",
       "<table border=\"1\" class=\"dataframe\">\n",
       "  <thead>\n",
       "    <tr style=\"text-align: right;\">\n",
       "      <th></th>\n",
       "      <th>date</th>\n",
       "      <th>open</th>\n",
       "      <th>high</th>\n",
       "      <th>low</th>\n",
       "      <th>close</th>\n",
       "      <th>volume</th>\n",
       "    </tr>\n",
       "  </thead>\n",
       "  <tbody>\n",
       "    <tr>\n",
       "      <th>5</th>\n",
       "      <td>20181001</td>\n",
       "      <td>27135</td>\n",
       "      <td>27135</td>\n",
       "      <td>27036</td>\n",
       "      <td>27036</td>\n",
       "      <td>54490</td>\n",
       "    </tr>\n",
       "    <tr>\n",
       "      <th>82</th>\n",
       "      <td>20181002</td>\n",
       "      <td>27112</td>\n",
       "      <td>27130</td>\n",
       "      <td>27108</td>\n",
       "      <td>27112</td>\n",
       "      <td>41543</td>\n",
       "    </tr>\n",
       "    <tr>\n",
       "      <th>159</th>\n",
       "      <td>20181004</td>\n",
       "      <td>26613</td>\n",
       "      <td>26613</td>\n",
       "      <td>26581</td>\n",
       "      <td>26586</td>\n",
       "      <td>51190</td>\n",
       "    </tr>\n",
       "    <tr>\n",
       "      <th>236</th>\n",
       "      <td>20181005</td>\n",
       "      <td>26388</td>\n",
       "      <td>26415</td>\n",
       "      <td>26370</td>\n",
       "      <td>26392</td>\n",
       "      <td>59148</td>\n",
       "    </tr>\n",
       "    <tr>\n",
       "      <th>313</th>\n",
       "      <td>20181008</td>\n",
       "      <td>26280</td>\n",
       "      <td>26280</td>\n",
       "      <td>26262</td>\n",
       "      <td>26271</td>\n",
       "      <td>57731</td>\n",
       "    </tr>\n",
       "    <tr>\n",
       "      <th>...</th>\n",
       "      <td>...</td>\n",
       "      <td>...</td>\n",
       "      <td>...</td>\n",
       "      <td>...</td>\n",
       "      <td>...</td>\n",
       "      <td>...</td>\n",
       "    </tr>\n",
       "    <tr>\n",
       "      <th>95877</th>\n",
       "      <td>20231020</td>\n",
       "      <td>31980</td>\n",
       "      <td>31985</td>\n",
       "      <td>31945</td>\n",
       "      <td>31965</td>\n",
       "      <td>56338</td>\n",
       "    </tr>\n",
       "    <tr>\n",
       "      <th>95954</th>\n",
       "      <td>20231023</td>\n",
       "      <td>31845</td>\n",
       "      <td>31865</td>\n",
       "      <td>31800</td>\n",
       "      <td>31840</td>\n",
       "      <td>87897</td>\n",
       "    </tr>\n",
       "    <tr>\n",
       "      <th>96031</th>\n",
       "      <td>20231024</td>\n",
       "      <td>31810</td>\n",
       "      <td>31855</td>\n",
       "      <td>31805</td>\n",
       "      <td>31805</td>\n",
       "      <td>34116</td>\n",
       "    </tr>\n",
       "    <tr>\n",
       "      <th>96108</th>\n",
       "      <td>20231025</td>\n",
       "      <td>32095</td>\n",
       "      <td>32120</td>\n",
       "      <td>32035</td>\n",
       "      <td>32040</td>\n",
       "      <td>114394</td>\n",
       "    </tr>\n",
       "    <tr>\n",
       "      <th>96185</th>\n",
       "      <td>20231026</td>\n",
       "      <td>31355</td>\n",
       "      <td>31380</td>\n",
       "      <td>31330</td>\n",
       "      <td>31340</td>\n",
       "      <td>49509</td>\n",
       "    </tr>\n",
       "  </tbody>\n",
       "</table>\n",
       "<p>1241 rows × 6 columns</p>\n",
       "</div>"
      ],
      "text/plain": [
       "           date   open   high    low  close  volume\n",
       "5      20181001  27135  27135  27036  27036   54490\n",
       "82     20181002  27112  27130  27108  27112   41543\n",
       "159    20181004  26613  26613  26581  26586   51190\n",
       "236    20181005  26388  26415  26370  26392   59148\n",
       "313    20181008  26280  26280  26262  26271   57731\n",
       "...         ...    ...    ...    ...    ...     ...\n",
       "95877  20231020  31980  31985  31945  31965   56338\n",
       "95954  20231023  31845  31865  31800  31840   87897\n",
       "96031  20231024  31810  31855  31805  31805   34116\n",
       "96108  20231025  32095  32120  32035  32040  114394\n",
       "96185  20231026  31355  31380  31330  31340   49509\n",
       "\n",
       "[1241 rows x 6 columns]"
      ]
     },
     "execution_count": 8,
     "metadata": {},
     "output_type": "execute_result"
    }
   ],
   "source": [
    "# 'date' 컬럼에서 '09xx'을 포함하는 데이터만 필터링한다.\n",
    "kodex_0930_data = df1[df1['date'].astype(str).str.endswith('0930')]\n",
    "kodex_0930_data['date'] = kodex_0930_data['date'].astype(str).str[:8].astype(int)\n",
    "\n",
    "kodex_0930_data\n"
   ]
  },
  {
   "cell_type": "code",
   "execution_count": 30,
   "metadata": {},
   "outputs": [
    {
     "name": "stderr",
     "output_type": "stream",
     "text": [
      "C:\\Users\\hotte\\AppData\\Local\\Temp\\ipykernel_7596\\2027160035.py:2: SettingWithCopyWarning: \n",
      "A value is trying to be set on a copy of a slice from a DataFrame.\n",
      "Try using .loc[row_indexer,col_indexer] = value instead\n",
      "\n",
      "See the caveats in the documentation: https://pandas.pydata.org/pandas-docs/stable/user_guide/indexing.html#returning-a-view-versus-a-copy\n",
      "  kodex_0930_data['date'] = kodex_0930_data['date'].astype(str).str[:8].astype(int)\n"
     ]
    },
    {
     "data": {
      "text/plain": [
       "1241"
      ]
     },
     "execution_count": 30,
     "metadata": {},
     "output_type": "execute_result"
    }
   ],
   "source": [
    "# 'date' 컬럼의 데이터를 YYYYMMDD 형태로 변환\n",
    "kodex_0930_data['date'] = kodex_0930_data['date'].astype(str).str[:8].astype(int)\n",
    "\n",
    "# 'date'를 기준으로 kodex_0930_data와 x1_kodex_data를 내부 조인(inner join)한다.\n",
    "merged_data = pd.merge(kodex_0930_data, df2, on='date', how='inner')\n",
    "\n",
    "len(merged_data)"
   ]
  },
  {
   "cell_type": "code",
   "execution_count": 31,
   "metadata": {},
   "outputs": [],
   "source": [
    "merged_data['y_rate'] = (merged_data['open_x'] - merged_data['open_y'])/merged_data['open_y']"
   ]
  },
  {
   "cell_type": "code",
   "execution_count": 32,
   "metadata": {},
   "outputs": [],
   "source": [
    "merged_data[['date','y_rate']].to_csv('../data/y_rate/y_0900_0955.csv')"
   ]
  },
  {
   "cell_type": "code",
   "execution_count": null,
   "metadata": {},
   "outputs": [],
   "source": []
  }
 ],
 "metadata": {
  "kernelspec": {
   "display_name": "Python 3",
   "language": "python",
   "name": "python3"
  },
  "language_info": {
   "codemirror_mode": {
    "name": "ipython",
    "version": 3
   },
   "file_extension": ".py",
   "mimetype": "text/x-python",
   "name": "python",
   "nbconvert_exporter": "python",
   "pygments_lexer": "ipython3",
   "version": "3.11.4"
  }
 },
 "nbformat": 4,
 "nbformat_minor": 2
}
