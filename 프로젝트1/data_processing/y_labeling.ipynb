{
 "cells": [
  {
   "cell_type": "code",
   "execution_count": 1,
   "metadata": {},
   "outputs": [],
   "source": [
    "import pandas as pd"
   ]
  },
  {
   "cell_type": "code",
   "execution_count": 93,
   "metadata": {},
   "outputs": [],
   "source": [
    "df1 = pd.read_csv('../data/y/kodex(5min).csv')\n",
    "df2 = pd.read_csv('../data/y/X1_kodex(1d).csv')"
   ]
  },
  {
   "cell_type": "code",
   "execution_count": 94,
   "metadata": {},
   "outputs": [
    {
     "data": {
      "text/html": [
       "<div>\n",
       "<style scoped>\n",
       "    .dataframe tbody tr th:only-of-type {\n",
       "        vertical-align: middle;\n",
       "    }\n",
       "\n",
       "    .dataframe tbody tr th {\n",
       "        vertical-align: top;\n",
       "    }\n",
       "\n",
       "    .dataframe thead th {\n",
       "        text-align: right;\n",
       "    }\n",
       "</style>\n",
       "<table border=\"1\" class=\"dataframe\">\n",
       "  <thead>\n",
       "    <tr style=\"text-align: right;\">\n",
       "      <th></th>\n",
       "      <th>date</th>\n",
       "      <th>open</th>\n",
       "      <th>high</th>\n",
       "      <th>low</th>\n",
       "      <th>close</th>\n",
       "      <th>volume</th>\n",
       "    </tr>\n",
       "  </thead>\n",
       "  <tbody>\n",
       "    <tr>\n",
       "      <th>11</th>\n",
       "      <td>201810011000</td>\n",
       "      <td>27004</td>\n",
       "      <td>27022</td>\n",
       "      <td>27004</td>\n",
       "      <td>27013</td>\n",
       "      <td>31779</td>\n",
       "    </tr>\n",
       "    <tr>\n",
       "      <th>88</th>\n",
       "      <td>201810021000</td>\n",
       "      <td>27135</td>\n",
       "      <td>27139</td>\n",
       "      <td>27117</td>\n",
       "      <td>27121</td>\n",
       "      <td>11936</td>\n",
       "    </tr>\n",
       "    <tr>\n",
       "      <th>165</th>\n",
       "      <td>201810041000</td>\n",
       "      <td>26563</td>\n",
       "      <td>26568</td>\n",
       "      <td>26536</td>\n",
       "      <td>26541</td>\n",
       "      <td>70216</td>\n",
       "    </tr>\n",
       "    <tr>\n",
       "      <th>242</th>\n",
       "      <td>201810051000</td>\n",
       "      <td>26365</td>\n",
       "      <td>26388</td>\n",
       "      <td>26361</td>\n",
       "      <td>26365</td>\n",
       "      <td>28689</td>\n",
       "    </tr>\n",
       "    <tr>\n",
       "      <th>319</th>\n",
       "      <td>201810081000</td>\n",
       "      <td>26293</td>\n",
       "      <td>26298</td>\n",
       "      <td>26280</td>\n",
       "      <td>26280</td>\n",
       "      <td>21312</td>\n",
       "    </tr>\n",
       "  </tbody>\n",
       "</table>\n",
       "</div>"
      ],
      "text/plain": [
       "             date   open   high    low  close  volume\n",
       "11   201810011000  27004  27022  27004  27013   31779\n",
       "88   201810021000  27135  27139  27117  27121   11936\n",
       "165  201810041000  26563  26568  26536  26541   70216\n",
       "242  201810051000  26365  26388  26361  26365   28689\n",
       "319  201810081000  26293  26298  26280  26280   21312"
      ]
     },
     "execution_count": 94,
     "metadata": {},
     "output_type": "execute_result"
    }
   ],
   "source": [
    "# 'date' 컬럼에서 '09xx'을 포함하는 데이터만 필터링한다.\n",
    "kodex_0930_data = df1[df1['date'].astype(str).str.endswith('1000')]\n",
    "\n",
    "kodex_0930_data.head()\n"
   ]
  },
  {
   "cell_type": "code",
   "execution_count": 95,
   "metadata": {},
   "outputs": [
    {
     "name": "stderr",
     "output_type": "stream",
     "text": [
      "C:\\Users\\hotte\\AppData\\Local\\Temp\\ipykernel_12220\\2027160035.py:2: SettingWithCopyWarning: \n",
      "A value is trying to be set on a copy of a slice from a DataFrame.\n",
      "Try using .loc[row_indexer,col_indexer] = value instead\n",
      "\n",
      "See the caveats in the documentation: https://pandas.pydata.org/pandas-docs/stable/user_guide/indexing.html#returning-a-view-versus-a-copy\n",
      "  kodex_0930_data['date'] = kodex_0930_data['date'].astype(str).str[:8].astype(int)\n"
     ]
    },
    {
     "data": {
      "text/plain": [
       "1241"
      ]
     },
     "execution_count": 95,
     "metadata": {},
     "output_type": "execute_result"
    }
   ],
   "source": [
    "# 'date' 컬럼의 데이터를 YYYYMMDD 형태로 변환\n",
    "kodex_0930_data['date'] = kodex_0930_data['date'].astype(str).str[:8].astype(int)\n",
    "\n",
    "# 'date'를 기준으로 kodex_0930_data와 x1_kodex_data를 내부 조인(inner join)한다.\n",
    "merged_data = pd.merge(kodex_0930_data, df2, on='date', how='inner')\n",
    "\n",
    "len(merged_data)"
   ]
  },
  {
   "cell_type": "code",
   "execution_count": 96,
   "metadata": {},
   "outputs": [],
   "source": [
    "merged_data['y_rate'] = (merged_data['open_x'] - merged_data['open_y'])/merged_data['open_y']"
   ]
  },
  {
   "cell_type": "code",
   "execution_count": 97,
   "metadata": {},
   "outputs": [],
   "source": [
    "merged_data[['date','y_rate']].to_csv('../data/y_rate/y_0900_1000.csv')"
   ]
  },
  {
   "cell_type": "code",
   "execution_count": null,
   "metadata": {},
   "outputs": [],
   "source": []
  }
 ],
 "metadata": {
  "kernelspec": {
   "display_name": "Python 3",
   "language": "python",
   "name": "python3"
  },
  "language_info": {
   "codemirror_mode": {
    "name": "ipython",
    "version": 3
   },
   "file_extension": ".py",
   "mimetype": "text/x-python",
   "name": "python",
   "nbconvert_exporter": "python",
   "pygments_lexer": "ipython3",
   "version": "3.11.4"
  }
 },
 "nbformat": 4,
 "nbformat_minor": 2
}
