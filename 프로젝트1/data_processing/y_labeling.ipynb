{
 "cells": [
  {
   "cell_type": "code",
   "execution_count": 27,
   "metadata": {},
   "outputs": [],
   "source": [
    "import pandas as pd"
   ]
  },
  {
   "cell_type": "code",
   "execution_count": 28,
   "metadata": {},
   "outputs": [],
   "source": [
    "df1 = pd.read_csv('../data/y/kodex(5min).csv')\n",
    "df2 = pd.read_csv('../data/y/X1_kodex(1d).csv')"
   ]
  },
  {
   "cell_type": "code",
   "execution_count": 29,
   "metadata": {},
   "outputs": [
    {
     "data": {
      "text/html": [
       "<div>\n",
       "<style scoped>\n",
       "    .dataframe tbody tr th:only-of-type {\n",
       "        vertical-align: middle;\n",
       "    }\n",
       "\n",
       "    .dataframe tbody tr th {\n",
       "        vertical-align: top;\n",
       "    }\n",
       "\n",
       "    .dataframe thead th {\n",
       "        text-align: right;\n",
       "    }\n",
       "</style>\n",
       "<table border=\"1\" class=\"dataframe\">\n",
       "  <thead>\n",
       "    <tr style=\"text-align: right;\">\n",
       "      <th></th>\n",
       "      <th>date</th>\n",
       "      <th>open</th>\n",
       "      <th>high</th>\n",
       "      <th>low</th>\n",
       "      <th>close</th>\n",
       "      <th>volume</th>\n",
       "    </tr>\n",
       "  </thead>\n",
       "  <tbody>\n",
       "    <tr>\n",
       "      <th>10</th>\n",
       "      <td>201810010955</td>\n",
       "      <td>27022</td>\n",
       "      <td>27022</td>\n",
       "      <td>27004</td>\n",
       "      <td>27004</td>\n",
       "      <td>14771</td>\n",
       "    </tr>\n",
       "    <tr>\n",
       "      <th>87</th>\n",
       "      <td>201810020955</td>\n",
       "      <td>27148</td>\n",
       "      <td>27153</td>\n",
       "      <td>27130</td>\n",
       "      <td>27135</td>\n",
       "      <td>22026</td>\n",
       "    </tr>\n",
       "    <tr>\n",
       "      <th>164</th>\n",
       "      <td>201810040955</td>\n",
       "      <td>26563</td>\n",
       "      <td>26568</td>\n",
       "      <td>26545</td>\n",
       "      <td>26563</td>\n",
       "      <td>43856</td>\n",
       "    </tr>\n",
       "    <tr>\n",
       "      <th>241</th>\n",
       "      <td>201810050955</td>\n",
       "      <td>26347</td>\n",
       "      <td>26370</td>\n",
       "      <td>26334</td>\n",
       "      <td>26365</td>\n",
       "      <td>92146</td>\n",
       "    </tr>\n",
       "    <tr>\n",
       "      <th>318</th>\n",
       "      <td>201810080955</td>\n",
       "      <td>26302</td>\n",
       "      <td>26302</td>\n",
       "      <td>26275</td>\n",
       "      <td>26289</td>\n",
       "      <td>18094</td>\n",
       "    </tr>\n",
       "  </tbody>\n",
       "</table>\n",
       "</div>"
      ],
      "text/plain": [
       "             date   open   high    low  close  volume\n",
       "10   201810010955  27022  27022  27004  27004   14771\n",
       "87   201810020955  27148  27153  27130  27135   22026\n",
       "164  201810040955  26563  26568  26545  26563   43856\n",
       "241  201810050955  26347  26370  26334  26365   92146\n",
       "318  201810080955  26302  26302  26275  26289   18094"
      ]
     },
     "execution_count": 29,
     "metadata": {},
     "output_type": "execute_result"
    }
   ],
   "source": [
    "# 'date' 컬럼에서 '09xx'을 포함하는 데이터만 필터링한다.\n",
    "kodex_0930_data = df1[df1['date'].astype(str).str.endswith('0955')]\n",
    "\n",
    "kodex_0930_data.head()\n"
   ]
  },
  {
   "cell_type": "code",
   "execution_count": 30,
   "metadata": {},
   "outputs": [
    {
     "name": "stderr",
     "output_type": "stream",
     "text": [
      "C:\\Users\\hotte\\AppData\\Local\\Temp\\ipykernel_7596\\2027160035.py:2: SettingWithCopyWarning: \n",
      "A value is trying to be set on a copy of a slice from a DataFrame.\n",
      "Try using .loc[row_indexer,col_indexer] = value instead\n",
      "\n",
      "See the caveats in the documentation: https://pandas.pydata.org/pandas-docs/stable/user_guide/indexing.html#returning-a-view-versus-a-copy\n",
      "  kodex_0930_data['date'] = kodex_0930_data['date'].astype(str).str[:8].astype(int)\n"
     ]
    },
    {
     "data": {
      "text/plain": [
       "1241"
      ]
     },
     "execution_count": 30,
     "metadata": {},
     "output_type": "execute_result"
    }
   ],
   "source": [
    "# 'date' 컬럼의 데이터를 YYYYMMDD 형태로 변환\n",
    "kodex_0930_data['date'] = kodex_0930_data['date'].astype(str).str[:8].astype(int)\n",
    "\n",
    "# 'date'를 기준으로 kodex_0930_data와 x1_kodex_data를 내부 조인(inner join)한다.\n",
    "merged_data = pd.merge(kodex_0930_data, df2, on='date', how='inner')\n",
    "\n",
    "len(merged_data)"
   ]
  },
  {
   "cell_type": "code",
   "execution_count": 31,
   "metadata": {},
   "outputs": [],
   "source": [
    "merged_data['y_rate'] = (merged_data['open_x'] - merged_data['open_y'])/merged_data['open_y']"
   ]
  },
  {
   "cell_type": "code",
   "execution_count": 32,
   "metadata": {},
   "outputs": [],
   "source": [
    "merged_data[['date','y_rate']].to_csv('../data/y_rate/y_0900_0955.csv')"
   ]
  },
  {
   "cell_type": "code",
   "execution_count": null,
   "metadata": {},
   "outputs": [],
   "source": []
  }
 ],
 "metadata": {
  "kernelspec": {
   "display_name": "Python 3",
   "language": "python",
   "name": "python3"
  },
  "language_info": {
   "codemirror_mode": {
    "name": "ipython",
    "version": 3
   },
   "file_extension": ".py",
   "mimetype": "text/x-python",
   "name": "python",
   "nbconvert_exporter": "python",
   "pygments_lexer": "ipython3",
   "version": "3.11.4"
  }
 },
 "nbformat": 4,
 "nbformat_minor": 2
}
