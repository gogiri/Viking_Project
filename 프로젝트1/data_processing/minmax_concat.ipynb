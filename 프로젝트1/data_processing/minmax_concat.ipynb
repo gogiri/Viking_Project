{
 "cells": [
  {
   "cell_type": "code",
   "execution_count": 70,
   "metadata": {},
   "outputs": [],
   "source": [
    "import pandas as pd\n",
    "x1 = pd.read_csv('../data/X/X1_KODEX(1d).csv')\n",
    "x2 = pd.read_csv('../data/X/X2_X3_X4_KODEX_PBR_PER_DY.csv')\n",
    "x5 = pd.read_csv('../data/X/X5_kosdaq150(1d).csv')\n",
    "x7 = pd.read_csv('../data/X/X7_S&P500_return.csv')\n",
    "x11 = pd.read_csv('../data/X/X11_WTI.csv')\n",
    "x12 = pd.read_csv('../data/X/X12_10Y2Y.csv')\n",
    "x12_1 = pd.read_csv('../data/X/X12_10Y3M.csv')\n",
    "x13 = pd.read_csv('../data/X/X13_VIX.csv')"
   ]
  },
  {
   "cell_type": "code",
   "execution_count": 71,
   "metadata": {},
   "outputs": [],
   "source": [
    "y = pd.read_csv('../data/y_minmax/y_minmax_1000.csv')"
   ]
  },
  {
   "cell_type": "code",
   "execution_count": 72,
   "metadata": {},
   "outputs": [],
   "source": [
    "x1.drop(columns='Unnamed: 0',inplace=True)\n",
    "x5.drop(columns='Unnamed: 0',inplace=True)\n",
    "x7.drop(columns='Unnamed: 0',inplace=True)\n",
    "x11.drop(columns='Unnamed: 0',inplace=True)\n",
    "x12.drop(columns='Unnamed: 0',inplace=True)\n",
    "x12_1.drop(columns='Unnamed: 0',inplace=True)\n",
    "x13.drop(columns='Unnamed: 0',inplace=True)\n",
    "y.drop(columns='Unnamed: 0',inplace=True)"
   ]
  },
  {
   "cell_type": "code",
   "execution_count": 73,
   "metadata": {},
   "outputs": [],
   "source": [
    "col_list = [x1,x2,x5,x7,x11,x12,x12_1,x13]"
   ]
  },
  {
   "cell_type": "code",
   "execution_count": 74,
   "metadata": {},
   "outputs": [],
   "source": [
    "y['date'] = pd.to_datetime(y['date'], format='%Y%m%d')\n",
    "x2['date'] = pd.to_datetime(x2['date'], format='%Y%m%d')"
   ]
  },
  {
   "cell_type": "code",
   "execution_count": 75,
   "metadata": {},
   "outputs": [],
   "source": [
    "for i in col_list :\n",
    "    i['date'] = pd.to_datetime(i['date'], format='%Y-%m-%d')\n",
    "    y = pd.merge(y, i, on='date', how='inner')"
   ]
  },
  {
   "cell_type": "code",
   "execution_count": 76,
   "metadata": {},
   "outputs": [],
   "source": [
    "# \"K\" 제거 및 숫자로 변환\n",
    "y['WTI_Volume'] = y['WTI_Volume'].str.replace('K', '').astype(float)"
   ]
  },
  {
   "cell_type": "code",
   "execution_count": 77,
   "metadata": {},
   "outputs": [],
   "source": [
    "# Convert all columns (except 'date') to float\n",
    "for col in y.columns:\n",
    "    if col != 'date':\n",
    "        y[col] = y[col].astype(float)"
   ]
  },
  {
   "cell_type": "code",
   "execution_count": 78,
   "metadata": {},
   "outputs": [],
   "source": [
    "y['y_minmax_1000'] = y['y_minmax_1000'].shift(1)"
   ]
  },
  {
   "cell_type": "code",
   "execution_count": 79,
   "metadata": {},
   "outputs": [],
   "source": [
    "y.dropna(inplace=True)"
   ]
  },
  {
   "cell_type": "code",
   "execution_count": 80,
   "metadata": {},
   "outputs": [],
   "source": [
    "y.to_csv('../data/DataFrame_minmax/minmax_1000.csv')"
   ]
  },
  {
   "cell_type": "code",
   "execution_count": null,
   "metadata": {},
   "outputs": [],
   "source": []
  }
 ],
 "metadata": {
  "kernelspec": {
   "display_name": "Python 3",
   "language": "python",
   "name": "python3"
  },
  "language_info": {
   "codemirror_mode": {
    "name": "ipython",
    "version": 3
   },
   "file_extension": ".py",
   "mimetype": "text/x-python",
   "name": "python",
   "nbconvert_exporter": "python",
   "pygments_lexer": "ipython3",
   "version": "3.11.4"
  }
 },
 "nbformat": 4,
 "nbformat_minor": 2
}
